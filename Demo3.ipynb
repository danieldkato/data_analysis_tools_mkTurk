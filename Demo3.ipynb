{
 "cells": [
  {
   "cell_type": "code",
   "execution_count": null,
   "metadata": {},
   "outputs": [],
   "source": [
    "# generate psth_stim, psth_stim_meta, psth_scenefile, psth_scenefile_meta"
   ]
  },
  {
   "cell_type": "code",
   "execution_count": 1,
   "metadata": {},
   "outputs": [],
   "source": [
    "from natsort import os_sorted\n",
    "import pickle\n",
    "import pathlib as Path\n",
    "import os\n",
    "import sys\n",
    "from sys import platform\n",
    "import pandas as pd\n",
    "import numpy as np\n",
    "from utils_ephys import * \n",
    "from utils_meta import * \n",
    "\n"
   ]
  },
  {
   "cell_type": "code",
   "execution_count": 2,
   "metadata": {},
   "outputs": [],
   "source": [
    "base_data_path = Path.Path('/Volumes/issa-locker/Data')\n",
    "base_save_out_path = Path.Path('/Volumes/issa-locker/users/Younah/ephys/')\n",
    "monkey = 'West'\n",
    "date = '20231206'"
   ]
  },
  {
   "cell_type": "code",
   "execution_count": 3,
   "metadata": {},
   "outputs": [
    {
     "name": "stdout",
     "output_type": "stream",
     "text": [
      "1  recordings found\n",
      "/Volumes/issa-locker/Data/West/West_20231206_R_H01_P06/West_20231206_R_H01_P06_AP03.2_DV06.2_ML12.7_Ang50.0_Dep05200-05200_g0/West_20231206_R_H01_P06_AP03.2_DV06.2_ML12.7_Ang50.0_Dep05200-05200_g0_imec0\n",
      "\n",
      "Data path found: True\n",
      "All works will be saved to\n",
      "/Volumes/issa-locker/users/Younah/ephys/West/West_20231206_R_H01_P06\n",
      "All plots will be saved to \n",
      "/Volumes/issa-locker/users/Younah/ephys/West_plots/West_20231206_R_H01_P06\n"
     ]
    }
   ],
   "source": [
    "data_path, save_out_path, plot_save_out_path = init_dirs(base_data_path, monkey, date, base_save_out_path)"
   ]
  },
  {
   "cell_type": "code",
   "execution_count": 4,
   "metadata": {},
   "outputs": [
    {
     "name": "stdout",
     "output_type": "stream",
     "text": [
      "/Volumes/issa-locker/users/Younah/ephys/West/West_20231206_R_H01_P06\n"
     ]
    }
   ],
   "source": [
    "print(save_out_path)"
   ]
  },
  {
   "cell_type": "code",
   "execution_count": null,
   "metadata": {},
   "outputs": [],
   "source": [
    "MUA_dir = data_path / Path.Path('MUA_4SD')\n",
    "data_dict_path = os_sorted(save_out_path.glob('data_dict_' + monkey + '*'))[0]\n",
    "stim_info_path= os_sorted(save_out_path.glob('stim_info_sess'))[0]\n",
    "n_chan = 0"
   ]
  },
  {
   "cell_type": "code",
   "execution_count": null,
   "metadata": {},
   "outputs": [],
   "source": [
    "# get baseline activity\n",
    "\n",
    "ch_psth_bl, ch_psth_bl_meta,ch_psth_bl_stim = get_data_bl(n_chan, MUA_dir, data_dict_path,stim_info_path)\n",
    "\n",
    "pickle.dump(ch_psth_bl, open(save_out_path /'ch{:0>3d}_psth_bl'.format(n_chan) ,'wb'), protocol = 2)\n",
    "pickle.dump(ch_psth_bl_stim, open(save_out_path /'ch{:0>3d}_psth_bl_stim'.format(n_chan) ,'wb'), protocol = 2)\n"
   ]
  },
  {
   "cell_type": "code",
   "execution_count": null,
   "metadata": {},
   "outputs": [],
   "source": [
    "# get spike times, peak amplitude, waveform, and psth per stimulus \n",
    "\n",
    "ch_pk_stim, ch_wf_stim, ch_st_stim, ch_sl_stim, ch_ind_stim,ch_psth_stim,ch_psth_stim_meta = \\\n",
    "    get_data_bystim(n_chan, MUA_dir, stim_info_path, binwidth_psth= 0.01)\n",
    "\n",
    "pickle.dump(ch_pk_stim, open(save_out_path / 'ch{:0>3d}_pk_stim'.format(n_chan),'wb'), protocol = 2)\n",
    "pickle.dump(ch_wf_stim, open(save_out_path / 'ch{:0>3d}_wf_stim'.format(n_chan),'wb'), protocol = 2)\n",
    "pickle.dump(ch_st_stim, open(save_out_path / 'ch{:0>3d}_st_stim'.format(n_chan),'wb'), protocol = 2)\n",
    "pickle.dump(ch_sl_stim, open(save_out_path / 'ch{:0>3d}_sl_stim'.format(n_chan),'wb'), protocol = 2)\n",
    "pickle.dump(ch_ind_stim, open(save_out_path / 'ch{:0>3d}_ind_stim'.format(n_chan),'wb'), protocol = 2)\n",
    "pickle.dump(ch_psth_stim, open(save_out_path /'ch{:0>3d}_psth_stim'.format(n_chan),'wb'), protocol = 2)\n",
    "pickle.dump(ch_psth_stim_meta, open(save_out_path /'ch{:0>3d}_psth_stim_meta'.format(n_chan),'wb'), protocol = 2)\n",
    "\n",
    "# get mean psth per stimulus\n",
    "# get the longest length \n",
    "psth_len= 0\n",
    "for stim in ch_psth_stim:\n",
    "    psth_len = np.nanmax((psth_len,ch_psth_stim[stim].shape[1]))\n",
    "\n",
    "# get the longest length\n",
    "mean_psth = np.nan * np.ones((len(ch_psth_stim), psth_len))\n",
    "for n,stim in enumerate(ch_psth_stim):\n",
    "    mean_psth[n,0:ch_psth_stim[stim].shape[1]] = np.nanmean(ch_psth_stim[stim],axis = 0)\n",
    "\n",
    "np.save(save_out_path / 'ch{:0>3d}_mean_psth.npy'.format(n_chan),mean_psth)\n"
   ]
  },
  {
   "cell_type": "code",
   "execution_count": null,
   "metadata": {},
   "outputs": [],
   "source": [
    "# get psth per scenefile\n",
    "# stimulus in a session\n",
    "ch_psth_stim = pickle.load(open(save_out_path / 'ch{:0>3d}_psth_stim'.format(n_chan),'rb'))\n",
    "ch_psth_stim_meta = pickle.load(open(save_out_path / 'ch{:0>3d}_psth_stim_meta'.format(n_chan),'rb'))\n",
    "\n",
    "stim_list_sess = list(ch_psth_stim_meta.keys())\n",
    "\n",
    "all_scenefile = []\n",
    "for stim in stim_list_sess:\n",
    "    all_scenefile.extend(ch_psth_stim_meta[stim]['scenefile'])\n",
    "\n",
    "unique_scenefile = np.unique(all_scenefile)\n",
    "\n",
    "print(unique_scenefile)\n",
    "\n",
    "psth_byscenefile = dict.fromkeys(unique_scenefile) \n",
    "psth_byscenefile_meta = dict.fromkeys(unique_scenefile)\n",
    "\n",
    "for s in unique_scenefile:\n",
    "    psth_new = []\n",
    "    psth_byscenefile_meta[s] = dict()\n",
    "    psth_byscenefile_meta[s]['stim_ids'] = []\n",
    "    psth_byscenefile_meta[s]['ind'] = []\n",
    "    psth_byscenefile_meta[s]['n_trials_stim'] = []\n",
    "    n_trials = 0\n",
    "    for stim_ind,stim in enumerate(stim_list_sess):\n",
    "        if s in ch_psth_stim_meta[stim]['scenefile']:\n",
    "            psth_new.append(ch_psth_stim[stim])\n",
    "            psth_byscenefile_meta[s]['ind'].append(stim_ind)\n",
    "            psth_byscenefile_meta[s]['stim_ids'].append(stim)\n",
    "            t_before = ch_psth_stim_meta[stim]['t_before']\n",
    "            t_after = ch_psth_stim_meta[stim]['t_after']\n",
    "            psth_bins = ch_psth_stim_meta[stim]['psth_bins']\n",
    "            binwidth = ch_psth_stim_meta[stim]['binwidth']\n",
    "            n_trials += ch_psth_stim_meta[stim]['n_trials']\n",
    "            psth_byscenefile_meta[s]['n_trials_stim'].append(ch_psth_stim_meta[stim]['n_trials'])\n",
    "            stim_dur = ch_psth_stim_meta[stim]['stim_dur']\n",
    "    psth_new = np.vstack(psth_new)\n",
    "    psth_byscenefile[s]= psth_new\n",
    "    psth_byscenefile_meta[s]['stim_dur'] = stim_dur\n",
    "    psth_byscenefile_meta[s]['t_before'] = t_before\n",
    "    psth_byscenefile_meta[s]['t_after'] = t_after\n",
    "    psth_byscenefile_meta[s]['psth_bins'] = psth_bins\n",
    "    psth_byscenefile_meta[s]['binwidth'] = binwidth\n",
    "    psth_byscenefile_meta[s]['n_trials'] = n_trials\n",
    "\n",
    "pickle.dump(psth_byscenefile, open(save_out_path /'ch{:0>3d}_psth_scenefile'.format(n_chan),'wb'), protocol = 2)\n",
    "pickle.dump(psth_byscenefile_meta, open(save_out_path /'ch{:0>3d}_psth_scenefile_meta'.format(n_chan),'wb'), protocol = 2)"
   ]
  }
 ],
 "metadata": {
  "kernelspec": {
   "display_name": "Python 3",
   "language": "python",
   "name": "python3"
  },
  "language_info": {
   "codemirror_mode": {
    "name": "ipython",
    "version": 3
   },
   "file_extension": ".py",
   "mimetype": "text/x-python",
   "name": "python",
   "nbconvert_exporter": "python",
   "pygments_lexer": "ipython3",
   "version": "3.9.12"
  }
 },
 "nbformat": 4,
 "nbformat_minor": 2
}
